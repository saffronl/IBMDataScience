{
 "cells": [
  {
   "cell_type": "markdown",
   "id": "bf81b0d0-aae9-48bc-9a1b-d75679641e60",
   "metadata": {},
   "source": [
    "<p style=\"text-align:center\">\n",
    "    <a href=\"https://skills.network\" target=\"_blank\">\n",
    "    <img src=\"https://cf-courses-data.s3.us.cloud-object-storage.appdomain.cloud/assets/logos/SN_web_lightmode.png\" width=\"300\" alt=\"Skills Network Logo\">\n",
    "    </a>\n",
    "</p>\n",
    "\n",
    "# Final Project: Advanced SQL Techniques\n",
    "\n",
    "## Objectives\n",
    "\n",
    "After completing this lab, you will be able to:\n",
    "\n",
    "*   Use joins to query data from multiple tables\n",
    "\n",
    "*   Create and query views\n",
    "\n",
    "*   Write and run stored procedures\n",
    "\n",
    "*   Use transactions\n"
   ]
  },
  {
   "cell_type": "code",
   "execution_count": null,
   "metadata": {},
   "outputs": [],
   "source": []
  },
  {
   "cell_type": "markdown",
   "id": "80ccc5c9-c34e-4f78-889d-168bd981ba93",
   "metadata": {},
   "source": [
    "## Scenario\n",
    "\n",
    "In this project, you will work with three datasets that are available on the City of Chicago's Data Portal:\n",
    "\n",
    "*    Socioeconomic indicators in Chicago\n",
    "*    Chicago public schools\n",
    "*    Chicago crime data\n",
    "\n",
    "You must download each dataset, create a table for each one, and load the appropiate dataset through the Db2 console. If you have already completed the Hands on Lab: Joins, you can reuse the tables you created for that hands-on lab. However, you should not reuse similar tables with other names from other exercises or labs, as they may not create the correct results.\n",
    "\n",
    "Important note:\n",
    "\n",
    "If you have not yet downloaded the three datasets from the City of Chicago's Data Portal, created the required tables, and loaded the data, please follow the instructions in this section.\n",
    "\n"
   ]
  },
  {
   "cell_type": "markdown",
   "metadata": {},
   "source": [
    "### City of Chicago Datasets\n",
    "    Socioeconomic indicators in Chicago\n",
    "\n",
    "This dataset contains a selection of six socioeconomic indicators of public health significance and a \"hardship index\", for each Chicago community area, for the years 2008 – 2012. A detailed description of this dataset and the original dataset can be obtained from the Chicago Data Portal at:\n",
    "https://data.cityofchicago.org/Health-Human-Services/Census-Data-Selected-socioeconomic-indicators-in-C/kn9c-c2s2\n",
    "\n",
    "    Chicago public schools\n",
    "\n",
    "This dataset shows all school level performance data used to create CPS School Report Cards for the 2011-2012 school year. A detailed description of this dataset and the original dataset can be obtained from the Chicago Data Portal at:\n",
    "https://data.cityofchicago.org/Education/Chicago-Public-Schools-Progress-Report-Cards-2011-/9xs2-f89t\n",
    "\n",
    "    Chicago crime data\n",
    "\n",
    "This dataset reflects reported incidents of crime (with the exception of murders where data exists for each victim) that occurred in the City of Chicago from 2001 to present, minus the most recent seven days. A detailed description of this dataset and the original dataset can be obtained from the Chicago Data Portal at: https://data.cityofchicago.org/Public-Safety/Crimes-2001-to-present/ijzp-q8t2"
   ]
  },
  {
   "cell_type": "code",
   "execution_count": null,
   "metadata": {},
   "outputs": [],
   "source": [
    "import urllib.request\n",
    "from urllib.request import urlopen\n",
    "import ssl\n",
    "import json\n",
    "import csv\n",
    "import sqlite3\n",
    "import pandas as pd\n",
    "\n",
    "ssl._create_default_https_context = ssl._create_unverified_context"
   ]
  },
  {
   "cell_type": "code",
   "execution_count": null,
   "metadata": {},
   "outputs": [],
   "source": [
    "import csv, sqlite3\n",
    "\n",
    "con = sqlite3.connect(\"RealWorldData.db\")\n",
    "cur = con.cursor()\n",
    "\n",
    "%load_ext sql\n",
    "%sql sqlite:///RealWorldData.db"
   ]
  },
  {
   "cell_type": "code",
   "execution_count": null,
   "id": "a521dd15-385d-45f4-af94-40f151653933",
   "metadata": {},
   "outputs": [],
   "source": [
    "df_se = pd.read_csv('https://data.cityofchicago.org/resource/jcxq-k9xf.csv')\n",
    "df_se.to_sql(\"chicago_socioeconomic\", con, if_exists='replace', index=False,method=\"multi\")"
   ]
  },
  {
   "cell_type": "code",
   "execution_count": null,
   "metadata": {},
   "outputs": [],
   "source": [
    "df_ps = pd.read_csv(\"https://cf-courses-data.s3.us.cloud-object-storage.appdomain.cloud/IBMDeveloperSkillsNetwork-DB0201EN-SkillsNetwork/labs/FinalModule_Coursera_V5/data/ChicagoPublicSchools.csv\")\n",
    "df_ps.to_sql(\"chicago_public_schools\", con, if_exists='replace')"
   ]
  },
  {
   "cell_type": "code",
   "execution_count": null,
   "metadata": {},
   "outputs": [],
   "source": [
    "df_cr = pd.read_json(\"https://data.cityofchicago.org/resource/ijzp-q8t2.json\")\n",
    "df_cr = df_cr.drop(columns = [\"location\"]) # need to remove any dictionaries! \n",
    "df_cr.to_sql(\"chicago_crimes\", con, if_exists='replace', index=False)"
   ]
  },
  {
   "cell_type": "code",
   "execution_count": null,
   "metadata": {},
   "outputs": [],
   "source": [
    "# First, find out what data is in each dataframe\n",
    "%config SqlMagic.style = '_DEPRECATED_DEFAULT'\n",
    "%sql SELECT * FROM chicago_socioeconomic limit 3"
   ]
  },
  {
   "cell_type": "code",
   "execution_count": null,
   "metadata": {},
   "outputs": [],
   "source": [
    "%sql SELECT * FROM chicago_public_schools limit 3"
   ]
  },
  {
   "cell_type": "code",
   "execution_count": null,
   "metadata": {},
   "outputs": [],
   "source": []
  },
  {
   "cell_type": "code",
   "execution_count": null,
   "metadata": {},
   "outputs": [],
   "source": [
    "%sql SELECT * FROM chicago_crimes limit 3"
   ]
  },
  {
   "cell_type": "markdown",
   "metadata": {},
   "source": [
    "Write and execute a SQL query to list the school names, community names and average attendance for communities with a hardship index of 98."
   ]
  },
  {
   "cell_type": "code",
   "execution_count": null,
   "metadata": {},
   "outputs": [],
   "source": [
    "# Both Public School and the Socioeconomic dataframes have community area name\n",
    "# The public school df community area name is CAPITAL letters, and needs to be lowered.\n",
    "# so the join matches!\n",
    "\n",
    "%sql UPDATE chicago_socioeconomic SET community_area_name = LOWER(community_area_name)\n",
    "\n",
    "%sql UPDATE chicago_public_schools SET COMMUNITY_AREA_NAME = LOWER(COMMUNITY_AREA_NAME)"
   ]
  },
  {
   "cell_type": "code",
   "execution_count": null,
   "metadata": {},
   "outputs": [],
   "source": [
    "# Left join socioeconomic ONTO public schools\n",
    "\n",
    "%sql SELECT chicago_public_schools.COMMUNITY_AREA_NAME, \\\n",
    "chicago_public_schools.AVERAGE_STUDENT_ATTENDANCE \\\n",
    "FROM chicago_public_schools LEFT JOIN chicago_socioeconomic \\\n",
    "ON chicago_public_schools.COMMUNITY_AREA_NAME = chicago_socioeconomic.community_area_name \\\n",
    "limit 10"
   ]
  },
  {
   "cell_type": "markdown",
   "metadata": {},
   "source": [
    "Write and execute a SQL query to list all crimes that took place at a school. Include case number, crime type and community name."
   ]
  },
  {
   "cell_type": "code",
   "execution_count": null,
   "metadata": {},
   "outputs": [],
   "source": [
    "%sql SELECT cc.CASE_NUMBER, cc.PRIMARY_TYPE, cp.COMMUNITY_AREA_NAME \\\n",
    "FROM chicago_crimes cc , chicago_public_schools cp \\\n",
    "LEFT JOIN chicago_public_schools \\\n",
    "on cp.COMMUNITY_AREA_NUMBER = cc.community_area \\\n",
    "WHERE cc.LOCATION_DESCRIPTION LIKE '%School%' \\\n",
    "LIMIT 10"
   ]
  },
  {
   "cell_type": "markdown",
   "metadata": {},
   "source": [
    "Write and execute a SQL statement to create a view showing the columns listed in the following table, with new column names as shown in the second column."
   ]
  },
  {
   "cell_type": "code",
   "execution_count": null,
   "metadata": {},
   "outputs": [],
   "source": [
    "%sql CREATE VIEW chicago_summary(School_Name,Safety_Rating,Family_Rating,Environment_Rating,Instruction_Rating,Leaders_Rating,Teachers_Rating) \\\n",
    "AS SELECT NAME_OF_SCHOOL,Safety_Icon, Family_Involvement_Icon, Environment_Icon,Instruction_Icon, Leaders_Icon, Teachers_Icon \\\n",
    "FROM chicago_public_schools;"
   ]
  },
  {
   "cell_type": "code",
   "execution_count": null,
   "metadata": {},
   "outputs": [],
   "source": [
    "%sql select * from chicago_summary limit 10"
   ]
  },
  {
   "cell_type": "markdown",
   "metadata": {},
   "source": [
    "Write and execute a SQL statement that returns just the school name and leaders rating from the view."
   ]
  },
  {
   "cell_type": "code",
   "execution_count": null,
   "metadata": {},
   "outputs": [],
   "source": [
    "%sql select School_Name, Leaders_Rating from chicago_summary limit 10"
   ]
  },
  {
   "cell_type": "markdown",
   "metadata": {},
   "source": [
    "Write the structure of a query to create or replace a stored procedure called UPDATE_LEADERS_SCORE that takes a in_School_ID parameter as an integer and a in_Leader_Score parameter as an integer. Don't forget to use the #SET TERMINATOR statement to use the @ for the CREATE statement terminator."
   ]
  },
  {
   "cell_type": "code",
   "execution_count": null,
   "metadata": {
    "vscode": {
     "languageId": "sql"
    }
   },
   "outputs": [],
   "source": [
    "# SET TERMINATOR @\n",
    "CREATE PROCEDURE UPDATE_LEADERS_SCORE(IN in_School_ID INTEGER, IN in_Leader_Score INTEGER)\n",
    "BEGIN\n",
    " UPDATE CHICAGO_PUBLIC_SCHOOLS\n",
    " SET Leaders_Score = in_Leader_Score\n",
    " WHERE School_ID = in_School_ID ;\n",
    "\n",
    "IF in_Leader_Score >0 AND in_Leader_Score <20\n",
    "    THEN UPDATE CHICAGO_PUBLIC_SCHOOLS\n",
    "    SET Leaders_Icon ='Very Weak'\n",
    "    WHERE School_ID = in_School_ID;\n",
    "ELSEIF in_Leader_Score < 40\n",
    "    THEN UPDATE CHICAGO_PUBLIC_SCHOOLS\n",
    "    SET Leaders_Icon ='Weak'\n",
    "    WHERE School_ID = in_School_ID;\n",
    "ELSEIF in_Leader_Score < 60\n",
    "    THEN UPDATE CHICAGO_PUBLIC_SCHOOLS\n",
    "    SET Leaders_Icon ='Average'\n",
    "    WHERE School_ID = in_School_ID;\n",
    "ELSEIF in_Leader_Score < 80\n",
    "    THEN UPDATE CHICAGO_PUBLIC_SCHOOLS\n",
    "    SET Leaders_Icon ='Strong'\n",
    "    WHERE School_ID = in_School_ID;\n",
    "ELSEIF in_Leader_Score < 100\n",
    "    THEN UPDATE CHICAGO_PUBLIC_SCHOOLS\n",
    "    SET Leaders_Icon ='Very Strong'\n",
    "    WHERE School_ID = in_School_ID;\n",
    "ELSE  \n",
    "   ROLLBACK;\n",
    "END IF;\n",
    "END@"
   ]
  }
 ],
 "metadata": {
  "kernelspec": {
   "display_name": "Python 3",
   "language": "python",
   "name": "python3"
  },
  "language_info": {
   "codemirror_mode": {
    "name": "ipython",
    "version": 3
   },
   "file_extension": ".py",
   "mimetype": "text/x-python",
   "name": "python",
   "nbconvert_exporter": "python",
   "pygments_lexer": "ipython3",
   "version": "3.13.2"
  },
  "prev_pub_hash": "0cba170ca0dc9b48214139fa3ac45ed52b630d6673648baa4ea68e3beb1f8a49"
 },
 "nbformat": 4,
 "nbformat_minor": 4
}
